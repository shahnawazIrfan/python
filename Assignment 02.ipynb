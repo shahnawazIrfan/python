{
 "cells": [
  {
   "cell_type": "code",
   "execution_count": 3,
   "metadata": {},
   "outputs": [
    {
     "name": "stdout",
     "output_type": "stream",
     "text": [
      "Enter Physics marks out of 100 :75\n",
      "Enter Mathematics marks out of 100 :65\n",
      "Enter English marks out of 75 :57\n",
      "Enter Urdu marks out of 75 :61\n",
      "Enter Islamiat marks out of 75 :49\n",
      "\n",
      " SSC Part 2 Mark Sheet is :\n",
      "Total marks out of 425 is 307\n",
      "Total percentage out of 100 is 72.23529411764706\n",
      "Grade A\n"
     ]
    }
   ],
   "source": [
    "phy_marks = int(input(\"Enter Physics marks out of 100 :\"))\n",
    "maths_marks = int(input(\"Enter Mathematics marks out of 100 :\"))\n",
    "eng_marks = int(input(\"Enter English marks out of 75 :\"))\n",
    "urdu_marks = int(input(\"Enter Urdu marks out of 75 :\"))\n",
    "isl_marks = int(input(\"Enter Islamiat marks out of 75 :\"))\n",
    "\n",
    "total_marks = phy_marks + maths_marks + eng_marks + urdu_marks + isl_marks\n",
    "total_perc = (total_marks/425)*100\n",
    "\n",
    "print(\"\\n SSC Part 2 Mark Sheet is :\")\n",
    "print (\"Total marks out of 425 is\", total_marks)\n",
    "print (\"Total percentage out of 100 is\", total_perc)\n",
    "\n",
    "if total_perc >= 80  and total_perc <=100:\n",
    "    print(\"Grade A+\")\n",
    "elif total_perc >= 70  and total_perc < 80:\n",
    "    print(\"Grade A\")\n",
    "elif total_perc >= 60  and total_perc < 70:\n",
    "    print(\"Grade B\")\n",
    "elif total_perc >= 50  and total_perc < 60:\n",
    "    print(\"Grade C\")\n",
    "elif total_perc >= 40  and total_perc < 50:\n",
    "    print(\"Grade D\")\n",
    "else:\n",
    "    print(\"Failed\")"
   ]
  },
  {
   "cell_type": "code",
   "execution_count": 4,
   "metadata": {},
   "outputs": [
    {
     "name": "stdout",
     "output_type": "stream",
     "text": [
      "Enter any number42\n",
      "42 is an Even number\n"
     ]
    }
   ],
   "source": [
    "num = int(input(\"Enter any number\"))\n",
    "if num%2==0:\n",
    "    print(\"%d is an Even number\" %num)\n",
    "else:\n",
    "    print(\"%d is an odd number\" %num)"
   ]
  },
  {
   "cell_type": "code",
   "execution_count": 5,
   "metadata": {},
   "outputs": [
    {
     "name": "stdout",
     "output_type": "stream",
     "text": [
      "6\n"
     ]
    }
   ],
   "source": [
    "list = [\"apple\", \"mango\", \"banana\", \"orange\", \"pineapple\", \"grapes\"]\n",
    "print (len(list))"
   ]
  },
  {
   "cell_type": "code",
   "execution_count": 6,
   "metadata": {},
   "outputs": [
    {
     "name": "stdout",
     "output_type": "stream",
     "text": [
      "40\n"
     ]
    }
   ],
   "source": [
    "list = [4, 5, 7, 10, 6, 8]\n",
    "print (sum(list))"
   ]
  },
  {
   "cell_type": "code",
   "execution_count": 7,
   "metadata": {},
   "outputs": [
    {
     "name": "stdout",
     "output_type": "stream",
     "text": [
      "10\n"
     ]
    }
   ],
   "source": [
    "list = [4, 5, 7, 10, 6, 8]\n",
    "print (max(list))"
   ]
  },
  {
   "cell_type": "code",
   "execution_count": 8,
   "metadata": {},
   "outputs": [
    {
     "name": "stdout",
     "output_type": "stream",
     "text": [
      "1\n",
      "1\n",
      "2\n",
      "3\n"
     ]
    }
   ],
   "source": [
    "a = [1, 1, 2, 3, 5, 8, 13, 21, 34, 55, 89]\n",
    "\n",
    "for i in a:\n",
    "    if i < 5:\n",
    "        print (i)"
   ]
  },
  {
   "cell_type": "code",
   "execution_count": null,
   "metadata": {},
   "outputs": [],
   "source": []
  }
 ],
 "metadata": {
  "kernelspec": {
   "display_name": "Python 3",
   "language": "python",
   "name": "python3"
  },
  "language_info": {
   "codemirror_mode": {
    "name": "ipython",
    "version": 3
   },
   "file_extension": ".py",
   "mimetype": "text/x-python",
   "name": "python",
   "nbconvert_exporter": "python",
   "pygments_lexer": "ipython3",
   "version": "3.7.1"
  }
 },
 "nbformat": 4,
 "nbformat_minor": 2
}
