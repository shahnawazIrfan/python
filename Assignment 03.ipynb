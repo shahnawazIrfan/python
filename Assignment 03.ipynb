{
 "cells": [
  {
   "cell_type": "code",
   "execution_count": 4,
   "metadata": {},
   "outputs": [
    {
     "name": "stdout",
     "output_type": "stream",
     "text": [
      "Enter First number2\n",
      "Enter second number8\n",
      "Enter any operator^\n",
      "256 answer\n"
     ]
    }
   ],
   "source": [
    "num1 = int(input('Enter First number'))\n",
    "num2 = int(input('Enter second number'))\n",
    "operator = input('Enter any operator')\n",
    "\n",
    "if operator == '+':\n",
    "    result = num1 + num2\n",
    "    print(result, 'answer')\n",
    "    \n",
    "elif operator == '-':\n",
    "    result = num1 - num2\n",
    "    print(result, 'answer')\n",
    "    \n",
    "elif operator == '*':\n",
    "    result = num1 * num2\n",
    "    print(result, 'answer')\n",
    "    \n",
    "elif operator == '/':\n",
    "    result = num1 / num2\n",
    "    print(result, 'answer')\n",
    "    \n",
    "elif operator == '^':\n",
    "    result = num1 ** num2\n",
    "    print(result, 'answer')\n",
    "    \n",
    "else:\n",
    "    print('enter correct operator')\n"
   ]
  },
  {
   "cell_type": "code",
   "execution_count": 71,
   "metadata": {},
   "outputs": [
    {
     "name": "stdout",
     "output_type": "stream",
     "text": [
      "Enter any numeric value13\n",
      "13 is exist in a list\n"
     ]
    }
   ],
   "source": [
    "a = [1, 1, 2, 3, 5, 8, 13, 2, 21, 34, 55, 13, 89]\n",
    "val = int(input(\"Enter any numeric value\"))\n",
    "for i in a:\n",
    "    if i == val:\n",
    "        print(\"%d is exist in a list\" %val)\n",
    "        break;"
   ]
  },
  {
   "cell_type": "code",
   "execution_count": 65,
   "metadata": {},
   "outputs": [
    {
     "name": "stdout",
     "output_type": "stream",
     "text": [
      "{1: 'Cricket', 2: 'Tennis', 3: 'Football', 4: 'Hockey', 5: 'volleyball'}\n"
     ]
    }
   ],
   "source": [
    "sports = {\n",
    "             1:\"Cricket\",\n",
    "             2:\"Tennis\",\n",
    "             3:\"Football\",\n",
    "             4:\"Hockey\"\n",
    "        }\n",
    "sports[5]=\"volleyball\"\n",
    "print (sports)"
   ]
  },
  {
   "cell_type": "code",
   "execution_count": 22,
   "metadata": {},
   "outputs": [
    {
     "name": "stdout",
     "output_type": "stream",
     "text": [
      "600\n"
     ]
    }
   ],
   "source": [
    "numbers= {\n",
    "            'a': 100, \n",
    "            'b':200, \n",
    "            'c':300,\n",
    "        }\n",
    "print (sum(numbers.values()))"
   ]
  },
  {
   "cell_type": "code",
   "execution_count": 35,
   "metadata": {},
   "outputs": [
    {
     "name": "stdout",
     "output_type": "stream",
     "text": [
      "[1, 2, 13]\n"
     ]
    }
   ],
   "source": [
    "a = [1, 1, 2, 3, 5, 8, 13, 2, 21, 34, 55, 13, 89]\n",
    "dupValues = []\n",
    "uniqValues = {}\n",
    "for i in a:\n",
    "   if i not in uniqValues:\n",
    "      uniqValues[i] = 1\n",
    "   else:\n",
    "      if uniqValues[i] == 1:\n",
    "         dupValues.append(i)\n",
    "      uniqValues[i] += 1\n",
    "print(dupValues)\n"
   ]
  },
  {
   "cell_type": "code",
   "execution_count": 75,
   "metadata": {},
   "outputs": [
    {
     "name": "stdout",
     "output_type": "stream",
     "text": [
      "Enter key3\n",
      "Key already exists in a dictionary\n"
     ]
    }
   ],
   "source": [
    "sports = {\n",
    "             1:\"Cricket\",\n",
    "             2:\"Tennis\",\n",
    "             3:\"Football\",\n",
    "             4:\"Hockey\"\n",
    "        }\n",
    "i = int(input(\"Enter key\"))\n",
    "if i in sports:\n",
    "    print(\"Key already exists in a dictionary\")\n",
    "else:\n",
    "    print(\"Key not exists in a dictionary\")"
   ]
  },
  {
   "cell_type": "code",
   "execution_count": null,
   "metadata": {},
   "outputs": [],
   "source": []
  }
 ],
 "metadata": {
  "kernelspec": {
   "display_name": "Python 3",
   "language": "python",
   "name": "python3"
  },
  "language_info": {
   "codemirror_mode": {
    "name": "ipython",
    "version": 3
   },
   "file_extension": ".py",
   "mimetype": "text/x-python",
   "name": "python",
   "nbconvert_exporter": "python",
   "pygments_lexer": "ipython3",
   "version": "3.7.1"
  }
 },
 "nbformat": 4,
 "nbformat_minor": 2
}
