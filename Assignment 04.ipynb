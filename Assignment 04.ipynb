{
 "cells": [
  {
   "cell_type": "code",
   "execution_count": 1,
   "metadata": {},
   "outputs": [
    {
     "name": "stdout",
     "output_type": "stream",
     "text": [
      "{'first_name': 'shahnawaz', 'last_name': 'irfan', 'age': 22, 'city': 'karachi'}\n",
      "{'first_name': 'shahnawaz', 'last_name': 'irfan', 'age': 22, 'city': 'karachi', 'qualification': 'high academic level'}\n",
      "{'first_name': 'shahnawaz', 'last_name': 'irfan', 'age': 22, 'city': 'karachi'}\n"
     ]
    }
   ],
   "source": [
    "person = {\n",
    "    \"first_name\" : \"shahnawaz\",\n",
    "    \"last_name\" : \"irfan\",\n",
    "    \"age\" : 22,\n",
    "    \"city\" : \"karachi\"\n",
    "}\n",
    "print(person)\n",
    "person[\"qualification\"] = 'high academic level'\n",
    "print(person)\n",
    "del person[\"qualification\"]\n",
    "print(person)"
   ]
  },
  {
   "cell_type": "code",
   "execution_count": 2,
   "metadata": {},
   "outputs": [
    {
     "name": "stdout",
     "output_type": "stream",
     "text": [
      "{'country': 'pakistan', 'population': '14.91 million', 'fact': 'city of lights'}\n",
      "{'country': 'england', 'population': '8.9 million', 'fact': 'London Has 170 Museums'}\n",
      "{'country': 'turkey', 'population': '15.07 million', 'fact': 'the only city in the world which is both in Europe and Asia geographicaly.'}\n"
     ]
    }
   ],
   "source": [
    "cities = {\n",
    "    \"karachi\":{\n",
    "            \"country\" : \"pakistan\",\n",
    "            \"population\" : \"14.91 million\",\n",
    "            \"fact\" : \"city of lights\"\n",
    "    },\n",
    "    \n",
    "     \"london\":{\n",
    "            \"country\" : \"england\",\n",
    "            \"population\" : \"8.9 million\",\n",
    "            \"fact\" : \"London Has 170 Museums\"\n",
    "    },\n",
    "    \n",
    "    \"istanbul\":{\n",
    "            \"country\" : \"turkey\",\n",
    "            \"population\" : \"15.07 million\",\n",
    "            \"fact\" : \"the only city in the world which is both in Europe and Asia geographicaly.\"\n",
    "    },\n",
    "}\n",
    "print (cities[\"karachi\"])\n",
    "print (cities[\"london\"])\n",
    "print (cities[\"istanbul\"])"
   ]
  },
  {
   "cell_type": "code",
   "execution_count": 3,
   "metadata": {},
   "outputs": [
    {
     "name": "stdout",
     "output_type": "stream",
     "text": [
      "Enter person age10\n",
      "Ticket of the movie is $10\n"
     ]
    }
   ],
   "source": [
    "user_age = int(input(\"Enter person age\"))\n",
    "\n",
    "if user_age < 3:\n",
    "    print(\"Ticket of the movie is free\")\n",
    "elif user_age >3 and user_age < 12:\n",
    "    print(\"Ticket of the movie is $10\")\n",
    "elif user_age > 12:\n",
    "    print(\"Ticket of the movie is $15\")\n",
    "else:\n",
    "    print(\"enter incorrect age\")\n",
    "    \n"
   ]
  },
  {
   "cell_type": "code",
   "execution_count": 13,
   "metadata": {},
   "outputs": [
    {
     "name": "stdout",
     "output_type": "stream",
     "text": [
      "One of my favorite books is Alice in Wonderland.\n"
     ]
    }
   ],
   "source": [
    "def favorite_book(title):\n",
    "    print(\"One of my favorite books is %s in Wonderland.\" %title)\n",
    "    \n",
    "favorite_book(\"Alice\")"
   ]
  },
  {
   "cell_type": "code",
   "execution_count": 11,
   "metadata": {},
   "outputs": [
    {
     "name": "stdout",
     "output_type": "stream",
     "text": [
      "I'm a computer and i choose a hidden number. Now you will guess this hidden number\n",
      "\n",
      "Guess the number.\n",
      "15\n",
      "Your guess is less than hidden number.\n",
      "\n",
      "Guess the number.\n",
      "20\n",
      "Your guess is less than hidden number.\n",
      "\n",
      "Guess the number.\n",
      "25\n",
      "Your guess is less than hidden number.\n",
      "\n",
      "Sorry! The hidden number was28.\n",
      " Your chances are 3\n"
     ]
    }
   ],
   "source": [
    "import random\n",
    "\n",
    "chances = 0\n",
    "\n",
    "hidden_number = random.randint(1, 30)\n",
    "print(\"I'm a computer and i choose a hidden number. Now you will guess this hidden number\\n\")\n",
    "\n",
    "while chances < 3:\n",
    "    print('Guess the number.')\n",
    "    guess = input()\n",
    "    guess = int(guess)\n",
    "    chances = chances + 1\n",
    "    \n",
    "    \n",
    "    if guess < hidden_number:\n",
    "        print(\"Your guess is less than hidden number.\\n\")\n",
    "\n",
    "    elif guess > hidden_number:\n",
    "        print(\"Your guess is greater than hidden number.\\n\")\n",
    "\n",
    "    elif guess == hidden_number:\n",
    "        chances = str(chances)\n",
    "        print(\"Your guess is correct after\" + chances + \"chances\")\n",
    "        break\n",
    "    \n",
    "hidden_number = str(hidden_number)\n",
    "print(\"Sorry! The hidden number was\" + hidden_number+\".\\n Your chances are %d\" %chances)"
   ]
  }
 ],
 "metadata": {
  "kernelspec": {
   "display_name": "Python 3",
   "language": "python",
   "name": "python3"
  },
  "language_info": {
   "codemirror_mode": {
    "name": "ipython",
    "version": 3
   },
   "file_extension": ".py",
   "mimetype": "text/x-python",
   "name": "python",
   "nbconvert_exporter": "python",
   "pygments_lexer": "ipython3",
   "version": "3.7.1"
  }
 },
 "nbformat": 4,
 "nbformat_minor": 2
}
