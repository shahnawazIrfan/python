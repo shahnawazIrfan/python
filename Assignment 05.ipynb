{
 "cells": [
  {
   "cell_type": "code",
   "execution_count": 1,
   "metadata": {},
   "outputs": [
    {
     "data": {
      "text/plain": [
       "120"
      ]
     },
     "execution_count": 1,
     "metadata": {},
     "output_type": "execute_result"
    }
   ],
   "source": [
    "def factorial(x):\n",
    "    if x == 0:\n",
    "        return 1\n",
    "    else:\n",
    "        return x * factorial(x-1)\n",
    "        \n",
    "factorial(5)"
   ]
  },
  {
   "cell_type": "code",
   "execution_count": 2,
   "metadata": {},
   "outputs": [
    {
     "name": "stdout",
     "output_type": "stream",
     "text": [
      "lowercase letters is: 5\n",
      "uppercase letters is: 2\n"
     ]
    }
   ],
   "source": [
    "def CalculateCase(x):\n",
    "    lower = 0\n",
    "    upper = 0\n",
    "    for i in x:\n",
    "        if(i.islower()):\n",
    "            lower+=1\n",
    "            \n",
    "        elif(i.isupper()):\n",
    "            upper+=1\n",
    "            \n",
    "    print(\"lowercase letters is:\", lower)        \n",
    "    print(\"uppercase letters is:\", upper)\n",
    "    \n",
    "CalculateCase(\"SayLani\")"
   ]
  },
  {
   "cell_type": "code",
   "execution_count": 3,
   "metadata": {},
   "outputs": [
    {
     "data": {
      "text/plain": [
       "[2, 4, 6, 8]"
      ]
     },
     "execution_count": 3,
     "metadata": {},
     "output_type": "execute_result"
    }
   ],
   "source": [
    "def even(string):\n",
    "    list=[]\n",
    "    for x in string:\n",
    "        if x%2 == 0:\n",
    "            list.append(x)\n",
    "    return list\n",
    " \n",
    "even([1,2,3,4,5,6,7,8])"
   ]
  },
  {
   "cell_type": "code",
   "execution_count": 4,
   "metadata": {},
   "outputs": [
    {
     "name": "stdout",
     "output_type": "stream",
     "text": [
      "True\n"
     ]
    }
   ],
   "source": [
    "def palindrome(string):\n",
    "    left_string = 0\n",
    "    right_string = len(string)-1\n",
    "    \n",
    "    while right_string >= left_string:\n",
    "        if  string[left_string] != string[right_string]:\n",
    "            return False\n",
    "        \n",
    "        left_string +=1\n",
    "        right_string -=1\n",
    "    return True\n",
    "\n",
    "print(palindrome('madam'))"
   ]
  },
  {
   "cell_type": "code",
   "execution_count": 5,
   "metadata": {},
   "outputs": [
    {
     "data": {
      "text/plain": [
       "True"
      ]
     },
     "execution_count": 5,
     "metadata": {},
     "output_type": "execute_result"
    }
   ],
   "source": [
    "def prime_check(x):\n",
    "    if(x==1):\n",
    "        return False\n",
    "    else:\n",
    "        for i in range(2,x):\n",
    "            if x % i == 0:\n",
    "                return False\n",
    "        return True\n",
    "    \n",
    "prime_check(7)"
   ]
  },
  {
   "cell_type": "code",
   "execution_count": 6,
   "metadata": {},
   "outputs": [
    {
     "name": "stdout",
     "output_type": "stream",
     "text": [
      "user bought:[['iphone', 'T-shirt', 'laptop', 'cola']]\n"
     ]
    }
   ],
   "source": [
    "def shopping_list(items):\n",
    "    user_bought = []\n",
    "    for customer in items:\n",
    "        user_bought.append(items)\n",
    "        print(\"user bought:\"+str(user_bought))\n",
    "        break\n",
    "        \n",
    "shopping_list(['iphone','T-shirt','laptop','cola'])"
   ]
  }
 ],
 "metadata": {
  "kernelspec": {
   "display_name": "Python 3",
   "language": "python",
   "name": "python3"
  },
  "language_info": {
   "codemirror_mode": {
    "name": "ipython",
    "version": 3
   },
   "file_extension": ".py",
   "mimetype": "text/x-python",
   "name": "python",
   "nbconvert_exporter": "python",
   "pygments_lexer": "ipython3",
   "version": "3.7.1"
  }
 },
 "nbformat": 4,
 "nbformat_minor": 2
}
