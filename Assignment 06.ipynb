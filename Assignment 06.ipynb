{
 "cells": [
  {
   "cell_type": "code",
   "execution_count": null,
   "metadata": {},
   "outputs": [],
   "source": [
    "OOP is a programming paradigm based on the concept of \"objects\", which can contain data, in the form of \"attributes or properties\"\n",
    "and perform actions in the form of methods or functions. A feature of objects is an objects procedures that can access and often \n",
    "modify the data fields of the objects with which the are associated (objects have a notion of \"this\" or \"self\"). In OOP, computer \n",
    "programs are designed by making them out of objects that interact with one another.OOP languages are diverse, but the most \n",
    "popular ones are class-based, meaning that objects are instances of classes, which also determine their types."
   ]
  },
  {
   "cell_type": "code",
   "execution_count": null,
   "metadata": {},
   "outputs": [],
   "source": [
    "1. Modularity for easier troubleshooting\n",
    "2. Reuse of code through inheritance\n",
    "3. Flexibility through polymorphism\n",
    "4. Effective problem solving\n",
    "5. Exception handling"
   ]
  },
  {
   "cell_type": "code",
   "execution_count": null,
   "metadata": {},
   "outputs": [],
   "source": [
    "\"Method\" is called by its name, but it is associated to an object.A method is implicitly passed the object on which it is\n",
    "invoked.It may or may not return any data. A method can operate on the instance variables that is contained by the\n",
    "corresponding class.\n",
    "\n",
    "\"Function\" is block of code that is also called by its name.The function can have different parameters or may not have any at\n",
    "all.If any data (parameters) are passed, they are passed explicitly.It may or may not return any data.Function does not deal\n",
    "with Class and its instance concept."
   ]
  },
  {
   "cell_type": "code",
   "execution_count": null,
   "metadata": {},
   "outputs": [],
   "source": [
    "1. a \"class\" is a blueprint for creating objects. It contains properties and methods.\n",
    "2. \"object\" is an instance of a particular class or subclass.\n",
    "3. \"Attributes\" are data stored inside a class or instance and represent the state or quality of the class or instance\n",
    "4. A class \"behavior\" determines how an instance of that class operates."
   ]
  },
  {
   "cell_type": "code",
   "execution_count": 21,
   "metadata": {},
   "outputs": [
    {
     "name": "stdout",
     "output_type": "stream",
     "text": [
      "car name is mira\n",
      "car make by dihatsu\n",
      "car model is 2015\n",
      "dihatsu mira 2015 is starting\n",
      "dihatsu mira 2015 is driving\n",
      "dihatsu mira 2015 is parked\n"
     ]
    }
   ],
   "source": [
    "class Car():\n",
    "    def __init__(self, model, color, name, make, plate):\n",
    "        self.model=model\n",
    "        self.color=color\n",
    "        self.name=name\n",
    "        self.make=make\n",
    "        self.plate=plate\n",
    "        \n",
    "    def start(self):\n",
    "        print(\"{} {} {} is starting\".format(self.make, self.name, self.model))\n",
    "        \n",
    "    def Drive(self):\n",
    "        print(\"{} {} {} is driving\".format(self.make, self.name, self.model))\n",
    "        \n",
    "    def park(self):\n",
    "        print(\"{} {} {} is parked\".format(self.make, self.name, self.model))\n",
    "        \n",
    "c = Car(2015,\"black\",\"mira\",\"dihatsu\",1234)\n",
    "print(\"car name is \" + c.name)\n",
    "print(\"car make by \" + c.make)\n",
    "print(\"car model is\", c.model)\n",
    "c.start()\n",
    "c.Drive()\n",
    "c.park()"
   ]
  }
 ],
 "metadata": {
  "kernelspec": {
   "display_name": "Python 3",
   "language": "python",
   "name": "python3"
  },
  "language_info": {
   "codemirror_mode": {
    "name": "ipython",
    "version": 3
   },
   "file_extension": ".py",
   "mimetype": "text/x-python",
   "name": "python",
   "nbconvert_exporter": "python",
   "pygments_lexer": "ipython3",
   "version": "3.7.1"
  }
 },
 "nbformat": 4,
 "nbformat_minor": 2
}
